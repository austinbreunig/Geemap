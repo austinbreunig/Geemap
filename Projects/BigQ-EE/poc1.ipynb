{
 "cells": [
  {
   "cell_type": "code",
   "execution_count": 36,
   "metadata": {},
   "outputs": [],
   "source": [
    "import ee\n",
    "import json\n",
    "import geojson\n",
    "import pandas_gbq as gbq\n",
    "import geopandas as gpd\n",
    "import pandas as pd\n",
    "from shapely.geometry import shape\n",
    "from shapely import wkt"
   ]
  },
  {
   "cell_type": "code",
   "execution_count": 37,
   "metadata": {},
   "outputs": [],
   "source": [
    "service_account = 'austinbreunig@ee-obia-waterbodies.iam.gserviceaccount.com'\n",
    "credentials = ee.ServiceAccountCredentials(service_account, 'ee-obia-waterbodies-33e289809d3b.json')\n",
    "ee.Initialize(credentials)"
   ]
  },
  {
   "cell_type": "code",
   "execution_count": 38,
   "metadata": {},
   "outputs": [
    {
     "name": "stdout",
     "output_type": "stream",
     "text": [
      "Downloading: 100%|\u001b[32m██████████\u001b[0m|\n"
     ]
    }
   ],
   "source": [
    "sql = \"\"\"\n",
    "SELECT * FROM `ee-obia-waterbodies.ee_bq_test.ss_total_cat_depths`\n",
    "\"\"\"\n",
    "\n",
    "df = gbq.read_gbq(sql, project_id='ee-obia-waterbodies', dialect='standard')"
   ]
  },
  {
   "cell_type": "code",
   "execution_count": 39,
   "metadata": {},
   "outputs": [
    {
     "data": {
      "text/html": [
       "<div>\n",
       "<style scoped>\n",
       "    .dataframe tbody tr th:only-of-type {\n",
       "        vertical-align: middle;\n",
       "    }\n",
       "\n",
       "    .dataframe tbody tr th {\n",
       "        vertical-align: top;\n",
       "    }\n",
       "\n",
       "    .dataframe thead th {\n",
       "        text-align: right;\n",
       "    }\n",
       "</style>\n",
       "<table border=\"1\" class=\"dataframe\">\n",
       "  <thead>\n",
       "    <tr style=\"text-align: right;\">\n",
       "      <th></th>\n",
       "      <th>geom</th>\n",
       "      <th>ID</th>\n",
       "      <th>RISK_VALUE</th>\n",
       "      <th>SURGE_RISK</th>\n",
       "      <th>FIPSSTCO</th>\n",
       "      <th>CAT1DEP</th>\n",
       "      <th>CAT2DEP</th>\n",
       "      <th>CAT3DEP</th>\n",
       "      <th>CAT4DEP</th>\n",
       "      <th>CAT5DEP</th>\n",
       "      <th>total_cat_</th>\n",
       "    </tr>\n",
       "  </thead>\n",
       "  <tbody>\n",
       "    <tr>\n",
       "      <th>0</th>\n",
       "      <td>{\"type\":\"Polygon\",\"coordinates\":[[[-95.4399074...</td>\n",
       "      <td>17056189</td>\n",
       "      <td>4</td>\n",
       "      <td>Very High</td>\n",
       "      <td>48039</td>\n",
       "      <td>0</td>\n",
       "      <td>5</td>\n",
       "      <td>10</td>\n",
       "      <td>15</td>\n",
       "      <td>18</td>\n",
       "      <td>33</td>\n",
       "    </tr>\n",
       "    <tr>\n",
       "      <th>1</th>\n",
       "      <td>{\"type\":\"Polygon\",\"coordinates\":[[[-95.4374074...</td>\n",
       "      <td>17056827</td>\n",
       "      <td>4</td>\n",
       "      <td>Very High</td>\n",
       "      <td>48039</td>\n",
       "      <td>0</td>\n",
       "      <td>5</td>\n",
       "      <td>10</td>\n",
       "      <td>15</td>\n",
       "      <td>18</td>\n",
       "      <td>33</td>\n",
       "    </tr>\n",
       "    <tr>\n",
       "      <th>2</th>\n",
       "      <td>{\"type\":\"Polygon\",\"coordinates\":[[[-95.4374074...</td>\n",
       "      <td>17057446</td>\n",
       "      <td>4</td>\n",
       "      <td>Very High</td>\n",
       "      <td>48039</td>\n",
       "      <td>0</td>\n",
       "      <td>5</td>\n",
       "      <td>10</td>\n",
       "      <td>15</td>\n",
       "      <td>19</td>\n",
       "      <td>34</td>\n",
       "    </tr>\n",
       "    <tr>\n",
       "      <th>3</th>\n",
       "      <td>{\"type\":\"Polygon\",\"coordinates\":[[[-95.4407407...</td>\n",
       "      <td>17057591</td>\n",
       "      <td>4</td>\n",
       "      <td>Very High</td>\n",
       "      <td>48039</td>\n",
       "      <td>0</td>\n",
       "      <td>5</td>\n",
       "      <td>10</td>\n",
       "      <td>15</td>\n",
       "      <td>19</td>\n",
       "      <td>34</td>\n",
       "    </tr>\n",
       "    <tr>\n",
       "      <th>4</th>\n",
       "      <td>{\"type\":\"Polygon\",\"coordinates\":[[[-95.4396296...</td>\n",
       "      <td>17057779</td>\n",
       "      <td>4</td>\n",
       "      <td>Very High</td>\n",
       "      <td>48039</td>\n",
       "      <td>0</td>\n",
       "      <td>5</td>\n",
       "      <td>10</td>\n",
       "      <td>15</td>\n",
       "      <td>19</td>\n",
       "      <td>34</td>\n",
       "    </tr>\n",
       "  </tbody>\n",
       "</table>\n",
       "</div>"
      ],
      "text/plain": [
       "                                                geom        ID  RISK_VALUE  \\\n",
       "0  {\"type\":\"Polygon\",\"coordinates\":[[[-95.4399074...  17056189           4   \n",
       "1  {\"type\":\"Polygon\",\"coordinates\":[[[-95.4374074...  17056827           4   \n",
       "2  {\"type\":\"Polygon\",\"coordinates\":[[[-95.4374074...  17057446           4   \n",
       "3  {\"type\":\"Polygon\",\"coordinates\":[[[-95.4407407...  17057591           4   \n",
       "4  {\"type\":\"Polygon\",\"coordinates\":[[[-95.4396296...  17057779           4   \n",
       "\n",
       "  SURGE_RISK  FIPSSTCO  CAT1DEP  CAT2DEP  CAT3DEP  CAT4DEP  CAT5DEP  \\\n",
       "0  Very High     48039        0        5       10       15       18   \n",
       "1  Very High     48039        0        5       10       15       18   \n",
       "2  Very High     48039        0        5       10       15       19   \n",
       "3  Very High     48039        0        5       10       15       19   \n",
       "4  Very High     48039        0        5       10       15       19   \n",
       "\n",
       "   total_cat_  \n",
       "0          33  \n",
       "1          33  \n",
       "2          34  \n",
       "3          34  \n",
       "4          34  "
      ]
     },
     "execution_count": 39,
     "metadata": {},
     "output_type": "execute_result"
    }
   ],
   "source": [
    "df.head()"
   ]
  },
  {
   "cell_type": "code",
   "execution_count": 40,
   "metadata": {},
   "outputs": [],
   "source": [
    "def json_to_shapely(geometry):\n",
    "    \"\"\"\n",
    "    Convert JSON geometry to WKT format.\n",
    "    \n",
    "    Args:\n",
    "        json_geometry (dict): JSON geometry object.\n",
    "    \n",
    "    Returns:\n",
    "        str: WKT representation of the geometry.\n",
    "    \"\"\"\n",
    "    shapely_geometry = shape(json.loads(geometry))\n",
    "    return shapely_geometry\n"
   ]
  },
  {
   "cell_type": "code",
   "execution_count": 41,
   "metadata": {},
   "outputs": [],
   "source": [
    "gdf = df.copy()"
   ]
  },
  {
   "cell_type": "code",
   "execution_count": 42,
   "metadata": {},
   "outputs": [],
   "source": [
    "\n",
    "gdf['geom'] = gdf['geom'].apply(json_to_shapely)"
   ]
  },
  {
   "cell_type": "code",
   "execution_count": 43,
   "metadata": {},
   "outputs": [
    {
     "data": {
      "text/plain": [
       "0    POLYGON ((-95.43990740699996 28.96675925900007...\n",
       "1    POLYGON ((-95.43740740699997 28.96787037000007...\n",
       "2    POLYGON ((-95.43740740699997 28.96759259300006...\n",
       "3    POLYGON ((-95.44074074099996 28.96703703700006...\n",
       "4    POLYGON ((-95.43962962999994 28.96666666700002...\n",
       "Name: geom, dtype: object"
      ]
     },
     "execution_count": 43,
     "metadata": {},
     "output_type": "execute_result"
    }
   ],
   "source": [
    "gdf['geom'].head()"
   ]
  },
  {
   "cell_type": "code",
   "execution_count": 44,
   "metadata": {},
   "outputs": [],
   "source": [
    "# shapely to wkt geom to geojson\n",
    "gdf['geom'] = gdf['geom'].apply(lambda x: geojson.Feature(geometry=x))"
   ]
  },
  {
   "cell_type": "code",
   "execution_count": 45,
   "metadata": {},
   "outputs": [
    {
     "data": {
      "text/html": [
       "<div>\n",
       "<style scoped>\n",
       "    .dataframe tbody tr th:only-of-type {\n",
       "        vertical-align: middle;\n",
       "    }\n",
       "\n",
       "    .dataframe tbody tr th {\n",
       "        vertical-align: top;\n",
       "    }\n",
       "\n",
       "    .dataframe thead th {\n",
       "        text-align: right;\n",
       "    }\n",
       "</style>\n",
       "<table border=\"1\" class=\"dataframe\">\n",
       "  <thead>\n",
       "    <tr style=\"text-align: right;\">\n",
       "      <th></th>\n",
       "      <th>geom</th>\n",
       "      <th>ID</th>\n",
       "      <th>RISK_VALUE</th>\n",
       "      <th>SURGE_RISK</th>\n",
       "      <th>FIPSSTCO</th>\n",
       "      <th>CAT1DEP</th>\n",
       "      <th>CAT2DEP</th>\n",
       "      <th>CAT3DEP</th>\n",
       "      <th>CAT4DEP</th>\n",
       "      <th>CAT5DEP</th>\n",
       "      <th>total_cat_</th>\n",
       "    </tr>\n",
       "  </thead>\n",
       "  <tbody>\n",
       "    <tr>\n",
       "      <th>0</th>\n",
       "      <td>{'type': 'Feature', 'geometry': {'type': 'Poly...</td>\n",
       "      <td>17056189</td>\n",
       "      <td>4</td>\n",
       "      <td>Very High</td>\n",
       "      <td>48039</td>\n",
       "      <td>0</td>\n",
       "      <td>5</td>\n",
       "      <td>10</td>\n",
       "      <td>15</td>\n",
       "      <td>18</td>\n",
       "      <td>33</td>\n",
       "    </tr>\n",
       "    <tr>\n",
       "      <th>1</th>\n",
       "      <td>{'type': 'Feature', 'geometry': {'type': 'Poly...</td>\n",
       "      <td>17056827</td>\n",
       "      <td>4</td>\n",
       "      <td>Very High</td>\n",
       "      <td>48039</td>\n",
       "      <td>0</td>\n",
       "      <td>5</td>\n",
       "      <td>10</td>\n",
       "      <td>15</td>\n",
       "      <td>18</td>\n",
       "      <td>33</td>\n",
       "    </tr>\n",
       "    <tr>\n",
       "      <th>2</th>\n",
       "      <td>{'type': 'Feature', 'geometry': {'type': 'Poly...</td>\n",
       "      <td>17057446</td>\n",
       "      <td>4</td>\n",
       "      <td>Very High</td>\n",
       "      <td>48039</td>\n",
       "      <td>0</td>\n",
       "      <td>5</td>\n",
       "      <td>10</td>\n",
       "      <td>15</td>\n",
       "      <td>19</td>\n",
       "      <td>34</td>\n",
       "    </tr>\n",
       "    <tr>\n",
       "      <th>3</th>\n",
       "      <td>{'type': 'Feature', 'geometry': {'type': 'Poly...</td>\n",
       "      <td>17057591</td>\n",
       "      <td>4</td>\n",
       "      <td>Very High</td>\n",
       "      <td>48039</td>\n",
       "      <td>0</td>\n",
       "      <td>5</td>\n",
       "      <td>10</td>\n",
       "      <td>15</td>\n",
       "      <td>19</td>\n",
       "      <td>34</td>\n",
       "    </tr>\n",
       "    <tr>\n",
       "      <th>4</th>\n",
       "      <td>{'type': 'Feature', 'geometry': {'type': 'Poly...</td>\n",
       "      <td>17057779</td>\n",
       "      <td>4</td>\n",
       "      <td>Very High</td>\n",
       "      <td>48039</td>\n",
       "      <td>0</td>\n",
       "      <td>5</td>\n",
       "      <td>10</td>\n",
       "      <td>15</td>\n",
       "      <td>19</td>\n",
       "      <td>34</td>\n",
       "    </tr>\n",
       "  </tbody>\n",
       "</table>\n",
       "</div>"
      ],
      "text/plain": [
       "                                                geom        ID  RISK_VALUE  \\\n",
       "0  {'type': 'Feature', 'geometry': {'type': 'Poly...  17056189           4   \n",
       "1  {'type': 'Feature', 'geometry': {'type': 'Poly...  17056827           4   \n",
       "2  {'type': 'Feature', 'geometry': {'type': 'Poly...  17057446           4   \n",
       "3  {'type': 'Feature', 'geometry': {'type': 'Poly...  17057591           4   \n",
       "4  {'type': 'Feature', 'geometry': {'type': 'Poly...  17057779           4   \n",
       "\n",
       "  SURGE_RISK  FIPSSTCO  CAT1DEP  CAT2DEP  CAT3DEP  CAT4DEP  CAT5DEP  \\\n",
       "0  Very High     48039        0        5       10       15       18   \n",
       "1  Very High     48039        0        5       10       15       18   \n",
       "2  Very High     48039        0        5       10       15       19   \n",
       "3  Very High     48039        0        5       10       15       19   \n",
       "4  Very High     48039        0        5       10       15       19   \n",
       "\n",
       "   total_cat_  \n",
       "0          33  \n",
       "1          33  \n",
       "2          34  \n",
       "3          34  \n",
       "4          34  "
      ]
     },
     "execution_count": 45,
     "metadata": {},
     "output_type": "execute_result"
    }
   ],
   "source": [
    "gdf.head()"
   ]
  },
  {
   "cell_type": "code",
   "execution_count": 46,
   "metadata": {},
   "outputs": [],
   "source": [
    "all_features = []\n",
    "for index, row in gdf.iterrows():\n",
    "    all_features.append(row['geom']['geometry']['coordinates'])\n",
    "\n",
    "aoi = ee.Geometry.MultiPolygon(all_features)"
   ]
  },
  {
   "cell_type": "code",
   "execution_count": 47,
   "metadata": {},
   "outputs": [],
   "source": [
    "col = ee.ImageCollection('COPERNICUS/S2_SR_HARMONIZED')"
   ]
  },
  {
   "cell_type": "code",
   "execution_count": 48,
   "metadata": {},
   "outputs": [],
   "source": [
    "aoi_col = col.filterBounds(aoi)\n",
    "image = aoi_col.filterDate('2023-06-01', '2023-06-30').first()\n",
    "\n",
    "# ndvi calculation\n",
    "ndvi = image.normalizedDifference(['B8', 'B4'])\n",
    "\n",
    "# check if a dict is empty\n",
    "if not ndvi.getInfo():\n",
    "    print('empty')\n"
   ]
  },
  {
   "cell_type": "code",
   "execution_count": 49,
   "metadata": {},
   "outputs": [],
   "source": [
    "band_df = pd.DataFrame()\n",
    "for index, row in gdf.iterrows():\n",
    "    coords = row['geom']['geometry']['coordinates']\n",
    "    zone = ee.FeatureCollection(ee.Geometry.Polygon(coords))\n",
    "\n",
    "    stats_dict = ndvi.reduceRegion(\n",
    "    reducer=ee.Reducer.mean(),\n",
    "    geometry=zone,\n",
    "    scale=30\n",
    ").getInfo()\n",
    "    \n",
    "    # create df from stats_dict\n",
    "    df = pd.DataFrame(stats_dict, index=[0])\n",
    "    band_df = pd.concat([band_df, df], axis=0, ignore_index=True)\n",
    "\n",
    "\n",
    "\n",
    "    "
   ]
  },
  {
   "cell_type": "code",
   "execution_count": 50,
   "metadata": {},
   "outputs": [
    {
     "data": {
      "text/html": [
       "<div>\n",
       "<style scoped>\n",
       "    .dataframe tbody tr th:only-of-type {\n",
       "        vertical-align: middle;\n",
       "    }\n",
       "\n",
       "    .dataframe tbody tr th {\n",
       "        vertical-align: top;\n",
       "    }\n",
       "\n",
       "    .dataframe thead th {\n",
       "        text-align: right;\n",
       "    }\n",
       "</style>\n",
       "<table border=\"1\" class=\"dataframe\">\n",
       "  <thead>\n",
       "    <tr style=\"text-align: right;\">\n",
       "      <th></th>\n",
       "      <th>nd</th>\n",
       "    </tr>\n",
       "  </thead>\n",
       "  <tbody>\n",
       "    <tr>\n",
       "      <th>0</th>\n",
       "      <td>0.845340</td>\n",
       "    </tr>\n",
       "    <tr>\n",
       "      <th>1</th>\n",
       "      <td>0.826523</td>\n",
       "    </tr>\n",
       "    <tr>\n",
       "      <th>2</th>\n",
       "      <td>0.813726</td>\n",
       "    </tr>\n",
       "    <tr>\n",
       "      <th>3</th>\n",
       "      <td>0.816328</td>\n",
       "    </tr>\n",
       "    <tr>\n",
       "      <th>4</th>\n",
       "      <td>0.840232</td>\n",
       "    </tr>\n",
       "  </tbody>\n",
       "</table>\n",
       "</div>"
      ],
      "text/plain": [
       "         nd\n",
       "0  0.845340\n",
       "1  0.826523\n",
       "2  0.813726\n",
       "3  0.816328\n",
       "4  0.840232"
      ]
     },
     "execution_count": 50,
     "metadata": {},
     "output_type": "execute_result"
    }
   ],
   "source": [
    "band_df.head()"
   ]
  },
  {
   "cell_type": "code",
   "execution_count": 51,
   "metadata": {},
   "outputs": [],
   "source": [
    "gdf = gdf.join(band_df)\n"
   ]
  },
  {
   "cell_type": "code",
   "execution_count": 52,
   "metadata": {},
   "outputs": [
    {
     "data": {
      "text/html": [
       "<div>\n",
       "<style scoped>\n",
       "    .dataframe tbody tr th:only-of-type {\n",
       "        vertical-align: middle;\n",
       "    }\n",
       "\n",
       "    .dataframe tbody tr th {\n",
       "        vertical-align: top;\n",
       "    }\n",
       "\n",
       "    .dataframe thead th {\n",
       "        text-align: right;\n",
       "    }\n",
       "</style>\n",
       "<table border=\"1\" class=\"dataframe\">\n",
       "  <thead>\n",
       "    <tr style=\"text-align: right;\">\n",
       "      <th></th>\n",
       "      <th>geom</th>\n",
       "      <th>ID</th>\n",
       "      <th>RISK_VALUE</th>\n",
       "      <th>SURGE_RISK</th>\n",
       "      <th>FIPSSTCO</th>\n",
       "      <th>CAT1DEP</th>\n",
       "      <th>CAT2DEP</th>\n",
       "      <th>CAT3DEP</th>\n",
       "      <th>CAT4DEP</th>\n",
       "      <th>CAT5DEP</th>\n",
       "      <th>total_cat_</th>\n",
       "      <th>nd</th>\n",
       "    </tr>\n",
       "  </thead>\n",
       "  <tbody>\n",
       "    <tr>\n",
       "      <th>0</th>\n",
       "      <td>{'type': 'Feature', 'geometry': {'type': 'Poly...</td>\n",
       "      <td>17056189</td>\n",
       "      <td>4</td>\n",
       "      <td>Very High</td>\n",
       "      <td>48039</td>\n",
       "      <td>0</td>\n",
       "      <td>5</td>\n",
       "      <td>10</td>\n",
       "      <td>15</td>\n",
       "      <td>18</td>\n",
       "      <td>33</td>\n",
       "      <td>0.845340</td>\n",
       "    </tr>\n",
       "    <tr>\n",
       "      <th>1</th>\n",
       "      <td>{'type': 'Feature', 'geometry': {'type': 'Poly...</td>\n",
       "      <td>17056827</td>\n",
       "      <td>4</td>\n",
       "      <td>Very High</td>\n",
       "      <td>48039</td>\n",
       "      <td>0</td>\n",
       "      <td>5</td>\n",
       "      <td>10</td>\n",
       "      <td>15</td>\n",
       "      <td>18</td>\n",
       "      <td>33</td>\n",
       "      <td>0.826523</td>\n",
       "    </tr>\n",
       "    <tr>\n",
       "      <th>2</th>\n",
       "      <td>{'type': 'Feature', 'geometry': {'type': 'Poly...</td>\n",
       "      <td>17057446</td>\n",
       "      <td>4</td>\n",
       "      <td>Very High</td>\n",
       "      <td>48039</td>\n",
       "      <td>0</td>\n",
       "      <td>5</td>\n",
       "      <td>10</td>\n",
       "      <td>15</td>\n",
       "      <td>19</td>\n",
       "      <td>34</td>\n",
       "      <td>0.813726</td>\n",
       "    </tr>\n",
       "    <tr>\n",
       "      <th>3</th>\n",
       "      <td>{'type': 'Feature', 'geometry': {'type': 'Poly...</td>\n",
       "      <td>17057591</td>\n",
       "      <td>4</td>\n",
       "      <td>Very High</td>\n",
       "      <td>48039</td>\n",
       "      <td>0</td>\n",
       "      <td>5</td>\n",
       "      <td>10</td>\n",
       "      <td>15</td>\n",
       "      <td>19</td>\n",
       "      <td>34</td>\n",
       "      <td>0.816328</td>\n",
       "    </tr>\n",
       "    <tr>\n",
       "      <th>4</th>\n",
       "      <td>{'type': 'Feature', 'geometry': {'type': 'Poly...</td>\n",
       "      <td>17057779</td>\n",
       "      <td>4</td>\n",
       "      <td>Very High</td>\n",
       "      <td>48039</td>\n",
       "      <td>0</td>\n",
       "      <td>5</td>\n",
       "      <td>10</td>\n",
       "      <td>15</td>\n",
       "      <td>19</td>\n",
       "      <td>34</td>\n",
       "      <td>0.840232</td>\n",
       "    </tr>\n",
       "  </tbody>\n",
       "</table>\n",
       "</div>"
      ],
      "text/plain": [
       "                                                geom        ID  RISK_VALUE  \\\n",
       "0  {'type': 'Feature', 'geometry': {'type': 'Poly...  17056189           4   \n",
       "1  {'type': 'Feature', 'geometry': {'type': 'Poly...  17056827           4   \n",
       "2  {'type': 'Feature', 'geometry': {'type': 'Poly...  17057446           4   \n",
       "3  {'type': 'Feature', 'geometry': {'type': 'Poly...  17057591           4   \n",
       "4  {'type': 'Feature', 'geometry': {'type': 'Poly...  17057779           4   \n",
       "\n",
       "  SURGE_RISK  FIPSSTCO  CAT1DEP  CAT2DEP  CAT3DEP  CAT4DEP  CAT5DEP  \\\n",
       "0  Very High     48039        0        5       10       15       18   \n",
       "1  Very High     48039        0        5       10       15       18   \n",
       "2  Very High     48039        0        5       10       15       19   \n",
       "3  Very High     48039        0        5       10       15       19   \n",
       "4  Very High     48039        0        5       10       15       19   \n",
       "\n",
       "   total_cat_        nd  \n",
       "0          33  0.845340  \n",
       "1          33  0.826523  \n",
       "2          34  0.813726  \n",
       "3          34  0.816328  \n",
       "4          34  0.840232  "
      ]
     },
     "execution_count": 52,
     "metadata": {},
     "output_type": "execute_result"
    }
   ],
   "source": [
    "gdf.head()"
   ]
  },
  {
   "cell_type": "code",
   "execution_count": 207,
   "metadata": {},
   "outputs": [
    {
     "data": {
      "text/plain": [
       "Index(['geom', 'ID', 'RISK_VALUE', 'SURGE_RISK', 'FIPSSTCO', 'CAT1DEP',\n",
       "       'CAT2DEP', 'CAT3DEP', 'CAT4DEP', 'CAT5DEP', 'total_cat_', 'nd'],\n",
       "      dtype='object')"
      ]
     },
     "execution_count": 207,
     "metadata": {},
     "output_type": "execute_result"
    }
   ],
   "source": [
    "gdf.columns"
   ]
  },
  {
   "cell_type": "code",
   "execution_count": 208,
   "metadata": {},
   "outputs": [],
   "source": [
    "gdf['geom'] = gdf['geom'].apply(lambda x: shape(x['geometry']))"
   ]
  },
  {
   "cell_type": "code",
   "execution_count": 183,
   "metadata": {},
   "outputs": [],
   "source": [
    "gpd.GeoDataFrame(gdf, geometry='geom', crs=4326).to_file('ndvi.shp')"
   ]
  },
  {
   "cell_type": "code",
   "execution_count": 152,
   "metadata": {},
   "outputs": [
    {
     "data": {
      "text/plain": [
       "<ee.image.Image at 0x203d75c19c0>"
      ]
     },
     "execution_count": 152,
     "metadata": {},
     "output_type": "execute_result"
    }
   ],
   "source": [
    "image"
   ]
  },
  {
   "cell_type": "code",
   "execution_count": 186,
   "metadata": {},
   "outputs": [],
   "source": []
  },
  {
   "cell_type": "code",
   "execution_count": 191,
   "metadata": {},
   "outputs": [
    {
     "data": {
      "text/plain": [
       "{'type': 'Image',\n",
       " 'bands': [{'id': 'nd',\n",
       "   'data_type': {'type': 'PixelType',\n",
       "    'precision': 'float',\n",
       "    'min': -1,\n",
       "    'max': 1},\n",
       "   'dimensions': [7741, 7881],\n",
       "   'crs': 'EPSG:32615',\n",
       "   'crs_transform': [30, 0, 174585, 0, -30, 3313215]}],\n",
       " 'properties': {'system:footprint': {'type': 'LinearRing',\n",
       "   'coordinates': [[-95.882442745473, 29.916241781187402],\n",
       "    [-95.88466594089704, 29.91619304537997],\n",
       "    [-95.99455146212536, 29.476648225776238],\n",
       "    [-96.10100454522356, 29.04777132195221],\n",
       "    [-96.20674263451791, 28.61885317312932],\n",
       "    [-96.31199552970635, 28.18906585924985],\n",
       "    [-96.31065331966452, 28.188511353160738],\n",
       "    [-95.53378332512604, 28.03584494684638],\n",
       "    [-94.42392482234081, 27.809210544984897],\n",
       "    [-94.39827630112785, 27.90679780616],\n",
       "    [-94.3555008139391, 28.06928519217053],\n",
       "    [-94.32005718871515, 28.203663466025045],\n",
       "    [-94.27882232785078, 28.359612623380922],\n",
       "    [-94.24452219386873, 28.48908590532632],\n",
       "    [-94.17790059614084, 28.739864837933563],\n",
       "    [-94.13045623818952, 28.91782448878135],\n",
       "    [-94.08608888152419, 29.08381755651489],\n",
       "    [-94.02277661316506, 29.31986598071218],\n",
       "    [-93.96417076947883, 29.5376281851731],\n",
       "    [-94.13273460664587, 29.572141709434533],\n",
       "    [-94.97655902304544, 29.741310407532126],\n",
       "    [-95.882442745473, 29.916241781187402]]}}}"
      ]
     },
     "execution_count": 191,
     "metadata": {},
     "output_type": "execute_result"
    }
   ],
   "source": [
    "ndvi.getInfo()"
   ]
  },
  {
   "cell_type": "code",
   "execution_count": null,
   "metadata": {},
   "outputs": [],
   "source": []
  },
  {
   "cell_type": "code",
   "execution_count": null,
   "metadata": {},
   "outputs": [],
   "source": []
  }
 ],
 "metadata": {
  "kernelspec": {
   "display_name": "Python 3",
   "language": "python",
   "name": "python3"
  },
  "language_info": {
   "codemirror_mode": {
    "name": "ipython",
    "version": 3
   },
   "file_extension": ".py",
   "mimetype": "text/x-python",
   "name": "python",
   "nbconvert_exporter": "python",
   "pygments_lexer": "ipython3",
   "version": "3.10.10"
  }
 },
 "nbformat": 4,
 "nbformat_minor": 2
}
