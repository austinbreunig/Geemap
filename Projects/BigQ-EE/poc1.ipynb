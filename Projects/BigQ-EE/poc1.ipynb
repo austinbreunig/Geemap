{
 "cells": [
  {
   "cell_type": "code",
   "execution_count": 12,
   "metadata": {},
   "outputs": [],
   "source": [
    "import ee\n",
    "import json\n",
    "import pandas_gbq as gbq\n",
    "from shapely.geometry import shape\n",
    "\n"
   ]
  },
  {
   "cell_type": "code",
   "execution_count": 13,
   "metadata": {},
   "outputs": [],
   "source": [
    "def json_to_wkt(geometry):\n",
    "    \"\"\"\n",
    "    Convert JSON geometry to WKT format.\n",
    "    \n",
    "    Args:\n",
    "        json_geometry (dict): JSON geometry object.\n",
    "    \n",
    "    Returns:\n",
    "        str: WKT representation of the geometry.\n",
    "    \"\"\"\n",
    "    shapely_geometry = shape(json.loads(geometry))\n",
    "    return shapely_geometry.wkt\n"
   ]
  },
  {
   "cell_type": "code",
   "execution_count": 3,
   "metadata": {},
   "outputs": [],
   "source": [
    "service_account = 'austinbreunig@ee-obia-waterbodies.iam.gserviceaccount.com'\n",
    "credentials = ee.ServiceAccountCredentials(service_account, 'ee-obia-waterbodies-33e289809d3b.json')\n",
    "ee.Initialize(credentials)"
   ]
  },
  {
   "cell_type": "code",
   "execution_count": 4,
   "metadata": {},
   "outputs": [
    {
     "name": "stdout",
     "output_type": "stream",
     "text": [
      "Downloading: 100%|\u001b[32m██████████\u001b[0m|\n"
     ]
    }
   ],
   "source": [
    "sql = \"\"\"\n",
    "SELECT * FROM `ee-obia-waterbodies.ee_bq_test.ss_total_cat_depths`\n",
    "\"\"\"\n",
    "\n",
    "df = gbq.read_gbq(sql, project_id='ee-obia-waterbodies', dialect='standard')"
   ]
  },
  {
   "cell_type": "code",
   "execution_count": 5,
   "metadata": {},
   "outputs": [
    {
     "data": {
      "text/html": [
       "<div>\n",
       "<style scoped>\n",
       "    .dataframe tbody tr th:only-of-type {\n",
       "        vertical-align: middle;\n",
       "    }\n",
       "\n",
       "    .dataframe tbody tr th {\n",
       "        vertical-align: top;\n",
       "    }\n",
       "\n",
       "    .dataframe thead th {\n",
       "        text-align: right;\n",
       "    }\n",
       "</style>\n",
       "<table border=\"1\" class=\"dataframe\">\n",
       "  <thead>\n",
       "    <tr style=\"text-align: right;\">\n",
       "      <th></th>\n",
       "      <th>geom</th>\n",
       "      <th>ID</th>\n",
       "      <th>RISK_VALUE</th>\n",
       "      <th>SURGE_RISK</th>\n",
       "      <th>FIPSSTCO</th>\n",
       "      <th>CAT1DEP</th>\n",
       "      <th>CAT2DEP</th>\n",
       "      <th>CAT3DEP</th>\n",
       "      <th>CAT4DEP</th>\n",
       "      <th>CAT5DEP</th>\n",
       "      <th>total_cat_</th>\n",
       "    </tr>\n",
       "  </thead>\n",
       "  <tbody>\n",
       "    <tr>\n",
       "      <th>0</th>\n",
       "      <td>{\"type\":\"Polygon\",\"coordinates\":[[[-95.4399074...</td>\n",
       "      <td>17056189</td>\n",
       "      <td>4</td>\n",
       "      <td>Very High</td>\n",
       "      <td>48039</td>\n",
       "      <td>0</td>\n",
       "      <td>5</td>\n",
       "      <td>10</td>\n",
       "      <td>15</td>\n",
       "      <td>18</td>\n",
       "      <td>33</td>\n",
       "    </tr>\n",
       "    <tr>\n",
       "      <th>1</th>\n",
       "      <td>{\"type\":\"Polygon\",\"coordinates\":[[[-95.4374074...</td>\n",
       "      <td>17056827</td>\n",
       "      <td>4</td>\n",
       "      <td>Very High</td>\n",
       "      <td>48039</td>\n",
       "      <td>0</td>\n",
       "      <td>5</td>\n",
       "      <td>10</td>\n",
       "      <td>15</td>\n",
       "      <td>18</td>\n",
       "      <td>33</td>\n",
       "    </tr>\n",
       "    <tr>\n",
       "      <th>2</th>\n",
       "      <td>{\"type\":\"Polygon\",\"coordinates\":[[[-95.4374074...</td>\n",
       "      <td>17057446</td>\n",
       "      <td>4</td>\n",
       "      <td>Very High</td>\n",
       "      <td>48039</td>\n",
       "      <td>0</td>\n",
       "      <td>5</td>\n",
       "      <td>10</td>\n",
       "      <td>15</td>\n",
       "      <td>19</td>\n",
       "      <td>34</td>\n",
       "    </tr>\n",
       "    <tr>\n",
       "      <th>3</th>\n",
       "      <td>{\"type\":\"Polygon\",\"coordinates\":[[[-95.4407407...</td>\n",
       "      <td>17057591</td>\n",
       "      <td>4</td>\n",
       "      <td>Very High</td>\n",
       "      <td>48039</td>\n",
       "      <td>0</td>\n",
       "      <td>5</td>\n",
       "      <td>10</td>\n",
       "      <td>15</td>\n",
       "      <td>19</td>\n",
       "      <td>34</td>\n",
       "    </tr>\n",
       "    <tr>\n",
       "      <th>4</th>\n",
       "      <td>{\"type\":\"Polygon\",\"coordinates\":[[[-95.4396296...</td>\n",
       "      <td>17057779</td>\n",
       "      <td>4</td>\n",
       "      <td>Very High</td>\n",
       "      <td>48039</td>\n",
       "      <td>0</td>\n",
       "      <td>5</td>\n",
       "      <td>10</td>\n",
       "      <td>15</td>\n",
       "      <td>19</td>\n",
       "      <td>34</td>\n",
       "    </tr>\n",
       "  </tbody>\n",
       "</table>\n",
       "</div>"
      ],
      "text/plain": [
       "                                                geom        ID  RISK_VALUE  \\\n",
       "0  {\"type\":\"Polygon\",\"coordinates\":[[[-95.4399074...  17056189           4   \n",
       "1  {\"type\":\"Polygon\",\"coordinates\":[[[-95.4374074...  17056827           4   \n",
       "2  {\"type\":\"Polygon\",\"coordinates\":[[[-95.4374074...  17057446           4   \n",
       "3  {\"type\":\"Polygon\",\"coordinates\":[[[-95.4407407...  17057591           4   \n",
       "4  {\"type\":\"Polygon\",\"coordinates\":[[[-95.4396296...  17057779           4   \n",
       "\n",
       "  SURGE_RISK  FIPSSTCO  CAT1DEP  CAT2DEP  CAT3DEP  CAT4DEP  CAT5DEP  \\\n",
       "0  Very High     48039        0        5       10       15       18   \n",
       "1  Very High     48039        0        5       10       15       18   \n",
       "2  Very High     48039        0        5       10       15       19   \n",
       "3  Very High     48039        0        5       10       15       19   \n",
       "4  Very High     48039        0        5       10       15       19   \n",
       "\n",
       "   total_cat_  \n",
       "0          33  \n",
       "1          33  \n",
       "2          34  \n",
       "3          34  \n",
       "4          34  "
      ]
     },
     "execution_count": 5,
     "metadata": {},
     "output_type": "execute_result"
    }
   ],
   "source": [
    "df.head()"
   ]
  },
  {
   "cell_type": "code",
   "execution_count": 14,
   "metadata": {},
   "outputs": [],
   "source": [
    "df['geom'] = df['geom'].apply(json_to_wkt)"
   ]
  },
  {
   "cell_type": "code",
   "execution_count": 15,
   "metadata": {},
   "outputs": [],
   "source": [
    "import geemap"
   ]
  },
  {
   "cell_type": "code",
   "execution_count": 17,
   "metadata": {},
   "outputs": [
    {
     "data": {
      "text/html": [
       "<div>\n",
       "<style scoped>\n",
       "    .dataframe tbody tr th:only-of-type {\n",
       "        vertical-align: middle;\n",
       "    }\n",
       "\n",
       "    .dataframe tbody tr th {\n",
       "        vertical-align: top;\n",
       "    }\n",
       "\n",
       "    .dataframe thead th {\n",
       "        text-align: right;\n",
       "    }\n",
       "</style>\n",
       "<table border=\"1\" class=\"dataframe\">\n",
       "  <thead>\n",
       "    <tr style=\"text-align: right;\">\n",
       "      <th></th>\n",
       "      <th>geom</th>\n",
       "      <th>ID</th>\n",
       "      <th>RISK_VALUE</th>\n",
       "      <th>SURGE_RISK</th>\n",
       "      <th>FIPSSTCO</th>\n",
       "      <th>CAT1DEP</th>\n",
       "      <th>CAT2DEP</th>\n",
       "      <th>CAT3DEP</th>\n",
       "      <th>CAT4DEP</th>\n",
       "      <th>CAT5DEP</th>\n",
       "      <th>total_cat_</th>\n",
       "    </tr>\n",
       "  </thead>\n",
       "  <tbody>\n",
       "    <tr>\n",
       "      <th>0</th>\n",
       "      <td>POLYGON ((-95.43990740699996 28.96675925900007...</td>\n",
       "      <td>17056189</td>\n",
       "      <td>4</td>\n",
       "      <td>Very High</td>\n",
       "      <td>48039</td>\n",
       "      <td>0</td>\n",
       "      <td>5</td>\n",
       "      <td>10</td>\n",
       "      <td>15</td>\n",
       "      <td>18</td>\n",
       "      <td>33</td>\n",
       "    </tr>\n",
       "    <tr>\n",
       "      <th>1</th>\n",
       "      <td>POLYGON ((-95.43740740699997 28.96787037000007...</td>\n",
       "      <td>17056827</td>\n",
       "      <td>4</td>\n",
       "      <td>Very High</td>\n",
       "      <td>48039</td>\n",
       "      <td>0</td>\n",
       "      <td>5</td>\n",
       "      <td>10</td>\n",
       "      <td>15</td>\n",
       "      <td>18</td>\n",
       "      <td>33</td>\n",
       "    </tr>\n",
       "    <tr>\n",
       "      <th>2</th>\n",
       "      <td>POLYGON ((-95.43740740699997 28.96759259300006...</td>\n",
       "      <td>17057446</td>\n",
       "      <td>4</td>\n",
       "      <td>Very High</td>\n",
       "      <td>48039</td>\n",
       "      <td>0</td>\n",
       "      <td>5</td>\n",
       "      <td>10</td>\n",
       "      <td>15</td>\n",
       "      <td>19</td>\n",
       "      <td>34</td>\n",
       "    </tr>\n",
       "    <tr>\n",
       "      <th>3</th>\n",
       "      <td>POLYGON ((-95.44074074099996 28.96703703700006...</td>\n",
       "      <td>17057591</td>\n",
       "      <td>4</td>\n",
       "      <td>Very High</td>\n",
       "      <td>48039</td>\n",
       "      <td>0</td>\n",
       "      <td>5</td>\n",
       "      <td>10</td>\n",
       "      <td>15</td>\n",
       "      <td>19</td>\n",
       "      <td>34</td>\n",
       "    </tr>\n",
       "    <tr>\n",
       "      <th>4</th>\n",
       "      <td>POLYGON ((-95.43962962999994 28.96666666700002...</td>\n",
       "      <td>17057779</td>\n",
       "      <td>4</td>\n",
       "      <td>Very High</td>\n",
       "      <td>48039</td>\n",
       "      <td>0</td>\n",
       "      <td>5</td>\n",
       "      <td>10</td>\n",
       "      <td>15</td>\n",
       "      <td>19</td>\n",
       "      <td>34</td>\n",
       "    </tr>\n",
       "  </tbody>\n",
       "</table>\n",
       "</div>"
      ],
      "text/plain": [
       "                                                geom        ID  RISK_VALUE  \\\n",
       "0  POLYGON ((-95.43990740699996 28.96675925900007...  17056189           4   \n",
       "1  POLYGON ((-95.43740740699997 28.96787037000007...  17056827           4   \n",
       "2  POLYGON ((-95.43740740699997 28.96759259300006...  17057446           4   \n",
       "3  POLYGON ((-95.44074074099996 28.96703703700006...  17057591           4   \n",
       "4  POLYGON ((-95.43962962999994 28.96666666700002...  17057779           4   \n",
       "\n",
       "  SURGE_RISK  FIPSSTCO  CAT1DEP  CAT2DEP  CAT3DEP  CAT4DEP  CAT5DEP  \\\n",
       "0  Very High     48039        0        5       10       15       18   \n",
       "1  Very High     48039        0        5       10       15       18   \n",
       "2  Very High     48039        0        5       10       15       19   \n",
       "3  Very High     48039        0        5       10       15       19   \n",
       "4  Very High     48039        0        5       10       15       19   \n",
       "\n",
       "   total_cat_  \n",
       "0          33  \n",
       "1          33  \n",
       "2          34  \n",
       "3          34  \n",
       "4          34  "
      ]
     },
     "execution_count": 17,
     "metadata": {},
     "output_type": "execute_result"
    }
   ],
   "source": [
    "df.head()"
   ]
  },
  {
   "cell_type": "code",
   "execution_count": 19,
   "metadata": {},
   "outputs": [
    {
     "data": {
      "text/plain": [
       "'POLYGON ((-95.43990740699996 28.96675925900007, -95.44009259299997 28.96675925900007, -95.44009259299997 28.96666666700002, -95.44064814799998 28.96666666700002, -95.44064814799998 28.96657407400005, -95.43990740699996 28.96657407400005, -95.43962962999994 28.96657407400005, -95.43962962999994 28.96648148100007, -95.43962962999994 28.96638888900002, -95.43990740699996 28.96638888900002, -95.43990740699996 28.96648148100007, -95.44009259299997 28.96648148100007, -95.44009259299997 28.96638888900002, -95.44037036999998 28.96638888900002, -95.44037036999998 28.96629629600005, -95.43962962999994 28.96629629600005, -95.43935185199994 28.96629629600005, -95.43935185199994 28.96620370400006, -95.43944444399993 28.96620370400006, -95.43944444399993 28.96611111100003, -95.43981481499998 28.96611111100003, -95.43981481499998 28.96601851900004, -95.43935185199994 28.96601851900004, -95.43935185199994 28.96583333300003, -95.43962962999994 28.96583333300003, -95.43962962999994 28.96592592600006, -95.43972222199993 28.96592592600006, -95.43972222199993 28.96574074100004, -95.43990740699996 28.96574074100004, -95.43990740699996 28.96592592600006, -95.43999999999993 28.96592592600006, -95.43999999999993 28.96583333300003, -95.44018518499996 28.96583333300003, -95.44018518499996 28.96592592600006, -95.44037036999998 28.96592592600006, -95.44037036999998 28.96574074100004, -95.44027777799992 28.96574074100004, -95.44027777799992 28.96435185200004, -95.44046296299994 28.96435185200004, -95.44046296299994 28.96453703700006, -95.44046296299994 28.96462963000004, -95.44046296299994 28.96481481500006, -95.44055555599992 28.96481481500006, -95.44055555599992 28.96462963000004, -95.44074074099996 28.96462963000004, -95.44074074099996 28.96490740700005, -95.44074074099996 28.96500000000003, -95.44083333299994 28.96500000000003, -95.44083333299994 28.96490740700005, -95.44101851899995 28.96490740700005, -95.44101851899995 28.96518518500005, -95.44101851899995 28.96564814800007, -95.44111111099994 28.96564814800007, -95.44111111099994 28.96518518500005, -95.44129629599996 28.96518518500005, -95.44129629599996 28.96537037000007, -95.44129629599996 28.96574074100004, -95.44111111099994 28.96574074100004, -95.44101851899995 28.96574074100004, -95.44101851899995 28.96592592600006, -95.44101851899995 28.96601851900004, -95.44101851899995 28.96620370400006, -95.44101851899995 28.96629629600005, -95.44101851899995 28.96638888900002, -95.44111111099994 28.96638888900002, -95.44111111099994 28.96629629600005, -95.44129629599996 28.96629629600005, -95.44129629599996 28.96638888900002, -95.44129629599996 28.96657407400005, -95.44101851899995 28.96657407400005, -95.44101851899995 28.96666666700002, -95.44129629599996 28.96666666700002, -95.44129629599996 28.96675925900007, -95.44138888899992 28.96675925900007, -95.44138888899992 28.96657407400005, -95.44157407399996 28.96657407400005, -95.44157407399996 28.96666666700002, -95.44157407399996 28.96685185200004, -95.44129629599996 28.96685185200004, -95.44120370399997 28.96685185200004, -95.44074074099996 28.96685185200004, -95.43990740699996 28.96685185200004, -95.43990740699996 28.96675925900007), (-95.44046296299994 28.96564814800007, -95.44055555599992 28.96564814800007, -95.44055555599992 28.96555555600002, -95.44064814799998 28.96555555600002, -95.44064814799998 28.96546296300004, -95.44055555599992 28.96546296300004, -95.44055555599992 28.96500000000003, -95.44046296299994 28.96500000000003, -95.44046296299994 28.96564814800007), (-95.44046296299994 28.96611111100003, -95.44064814799998 28.96611111100003, -95.44064814799998 28.96601851900004, -95.44055555599992 28.96601851900004, -95.44055555599992 28.96574074100004, -95.44046296299994 28.96574074100004, -95.44046296299994 28.96611111100003), (-95.43990740699996 28.96601851900004, -95.43990740699996 28.96620370400006, -95.44009259299997 28.96620370400006, -95.44009259299997 28.96601851900004, -95.43990740699996 28.96601851900004), (-95.44074074099996 28.96620370400006, -95.44083333299994 28.96620370400006, -95.44083333299994 28.96611111100003, -95.44092592599998 28.96611111100003, -95.44092592599998 28.96601851900004, -95.44083333299994 28.96601851900004, -95.44083333299994 28.96592592600006, -95.44074074099996 28.96592592600006, -95.44074074099996 28.96620370400006), (-95.44074074099996 28.96657407400005, -95.44074074099996 28.96675925900007, -95.44083333299994 28.96675925900007, -95.44083333299994 28.96666666700002, -95.44092592599998 28.96666666700002, -95.44092592599998 28.96657407400005, -95.44074074099996 28.96657407400005), (-95.44018518499996 28.96601851900004, -95.44018518499996 28.96620370400006, -95.44027777799992 28.96620370400006, -95.44027777799992 28.96611111100003, -95.44037036999998 28.96611111100003, -95.44037036999998 28.96601851900004, -95.44018518499996 28.96601851900004), (-95.44046296299994 28.96629629600005, -95.44046296299994 28.96638888900002, -95.44064814799998 28.96638888900002, -95.44064814799998 28.96629629600005, -95.44046296299994 28.96629629600005), (-95.44074074099996 28.96629629600005, -95.44074074099996 28.96638888900002, -95.44092592599998 28.96638888900002, -95.44092592599998 28.96629629600005, -95.44074074099996 28.96629629600005), (-95.44074074099996 28.96509259300006, -95.44074074099996 28.96527777800002, -95.44083333299994 28.96527777800002, -95.44083333299994 28.96509259300006, -95.44074074099996 28.96509259300006), (-95.44074074099996 28.96574074100004, -95.44074074099996 28.96583333300003, -95.44083333299994 28.96583333300003, -95.44083333299994 28.96574074100004, -95.44074074099996 28.96574074100004))'"
      ]
     },
     "execution_count": 19,
     "metadata": {},
     "output_type": "execute_result"
    }
   ],
   "source": [
    "df1 = df.iloc[0]['geom']\n",
    "df1"
   ]
  },
  {
   "cell_type": "code",
   "execution_count": 20,
   "metadata": {},
   "outputs": [
    {
     "ename": "EEException",
     "evalue": "Invalid geometry.",
     "output_type": "error",
     "traceback": [
      "\u001b[1;31m---------------------------------------------------------------------------\u001b[0m",
      "\u001b[1;31mEEException\u001b[0m                               Traceback (most recent call last)",
      "\u001b[1;32mc:\\GitHub\\Geemap\\Projects\\BigQ-EE\\poc1.ipynb Cell 10\u001b[0m line \u001b[0;36m1\n\u001b[1;32m----> <a href='vscode-notebook-cell:/c%3A/GitHub/Geemap/Projects/BigQ-EE/poc1.ipynb#X25sZmlsZQ%3D%3D?line=0'>1</a>\u001b[0m aoi \u001b[39m=\u001b[39m ee\u001b[39m.\u001b[39;49mGeometry\u001b[39m.\u001b[39;49mPolygon(df1)\n",
      "File \u001b[1;32mc:\\Users\\abreu\\Anaconda3\\envs\\geemap\\lib\\site-packages\\ee\\geometry.py:517\u001b[0m, in \u001b[0;36mGeometry.Polygon\u001b[1;34m(coords, proj, geodesic, maxError, evenOdd, *args)\u001b[0m\n\u001b[0;32m    485\u001b[0m \u001b[39m\u001b[39m\u001b[39m\"\"\"Constructs an ee.Geometry describing a polygon.\u001b[39;00m\n\u001b[0;32m    486\u001b[0m \n\u001b[0;32m    487\u001b[0m \u001b[39mArgs:\u001b[39;00m\n\u001b[1;32m   (...)\u001b[0m\n\u001b[0;32m    513\u001b[0m \u001b[39m  An ee.Geometry describing a polygon.\u001b[39;00m\n\u001b[0;32m    514\u001b[0m \u001b[39m\"\"\"\u001b[39;00m\n\u001b[0;32m    515\u001b[0m all_args \u001b[39m=\u001b[39m Geometry\u001b[39m.\u001b[39m_GetSpecifiedArgs((coords, proj, geodesic, maxError,\n\u001b[0;32m    516\u001b[0m                                        evenOdd) \u001b[39m+\u001b[39m args)\n\u001b[1;32m--> 517\u001b[0m \u001b[39mreturn\u001b[39;00m Geometry(Geometry\u001b[39m.\u001b[39;49m_parseArgs(\u001b[39m'\u001b[39;49m\u001b[39mPolygon\u001b[39;49m\u001b[39m'\u001b[39;49m, \u001b[39m3\u001b[39;49m, all_args))\n",
      "File \u001b[1;32mc:\\Users\\abreu\\Anaconda3\\envs\\geemap\\lib\\site-packages\\ee\\geometry.py:758\u001b[0m, in \u001b[0;36mGeometry._parseArgs\u001b[1;34m(ctor_name, depth, args)\u001b[0m\n\u001b[0;32m    755\u001b[0m \u001b[39melse\u001b[39;00m:\n\u001b[0;32m    756\u001b[0m   \u001b[39m# Everything can be handled here, so check the depth and init this object.\u001b[39;00m\n\u001b[0;32m    757\u001b[0m   result[\u001b[39m'\u001b[39m\u001b[39mtype\u001b[39m\u001b[39m'\u001b[39m] \u001b[39m=\u001b[39m ctor_name\n\u001b[1;32m--> 758\u001b[0m   result[\u001b[39m'\u001b[39m\u001b[39mcoordinates\u001b[39m\u001b[39m'\u001b[39m] \u001b[39m=\u001b[39m Geometry\u001b[39m.\u001b[39;49m_fixDepth(depth, result[\u001b[39m'\u001b[39;49m\u001b[39mcoordinates\u001b[39;49m\u001b[39m'\u001b[39;49m])\n\u001b[0;32m    759\u001b[0m   \u001b[39m# Enable evenOdd by default for any kind of polygon.\u001b[39;00m\n\u001b[0;32m    760\u001b[0m   \u001b[39mif\u001b[39;00m (\u001b[39m'\u001b[39m\u001b[39mevenOdd\u001b[39m\u001b[39m'\u001b[39m \u001b[39mnot\u001b[39;00m \u001b[39min\u001b[39;00m result \u001b[39mand\u001b[39;00m\n\u001b[0;32m    761\u001b[0m       ctor_name \u001b[39min\u001b[39;00m [\u001b[39m'\u001b[39m\u001b[39mPolygon\u001b[39m\u001b[39m'\u001b[39m, \u001b[39m'\u001b[39m\u001b[39mRectangle\u001b[39m\u001b[39m'\u001b[39m, \u001b[39m'\u001b[39m\u001b[39mMultiPolygon\u001b[39m\u001b[39m'\u001b[39m]):\n",
      "File \u001b[1;32mc:\\Users\\abreu\\Anaconda3\\envs\\geemap\\lib\\site-packages\\ee\\geometry.py:819\u001b[0m, in \u001b[0;36mGeometry._fixDepth\u001b[1;34m(depth, coords)\u001b[0m\n\u001b[0;32m    816\u001b[0m   count \u001b[39m+\u001b[39m\u001b[39m=\u001b[39m \u001b[39m1\u001b[39m\n\u001b[0;32m    818\u001b[0m \u001b[39mif\u001b[39;00m Geometry\u001b[39m.\u001b[39m_isValidCoordinates(coords) \u001b[39m!=\u001b[39m depth:\n\u001b[1;32m--> 819\u001b[0m   \u001b[39mraise\u001b[39;00m ee_exception\u001b[39m.\u001b[39mEEException(\u001b[39m'\u001b[39m\u001b[39mInvalid geometry.\u001b[39m\u001b[39m'\u001b[39m)\n\u001b[0;32m    821\u001b[0m \u001b[39m# Empty arrays should not be wrapped.\u001b[39;00m\n\u001b[0;32m    822\u001b[0m item \u001b[39m=\u001b[39m coords\n",
      "\u001b[1;31mEEException\u001b[0m: Invalid geometry."
     ]
    }
   ],
   "source": [
    "aoi = ee.Geometry.Polygon(df1)"
   ]
  },
  {
   "cell_type": "code",
   "execution_count": null,
   "metadata": {},
   "outputs": [],
   "source": []
  },
  {
   "cell_type": "code",
   "execution_count": 16,
   "metadata": {},
   "outputs": [
    {
     "ename": "Exception",
     "evalue": "ee_object must be an instance of one of ee.Geometry, ee.FeatureCollection, ee.Image, or ee.ImageCollection.",
     "output_type": "error",
     "traceback": [
      "\u001b[1;31m---------------------------------------------------------------------------\u001b[0m",
      "\u001b[1;31mAttributeError\u001b[0m                            Traceback (most recent call last)",
      "File \u001b[1;32mc:\\Users\\abreu\\Anaconda3\\envs\\geemap\\lib\\site-packages\\geemap\\geemap.py:1617\u001b[0m, in \u001b[0;36mMap.center_object\u001b[1;34m(self, ee_object, zoom)\u001b[0m\n\u001b[0;32m   1616\u001b[0m \u001b[39mtry\u001b[39;00m:\n\u001b[1;32m-> 1617\u001b[0m     geometry \u001b[39m=\u001b[39m ee_object\u001b[39m.\u001b[39;49mgeometry(maxError\u001b[39m=\u001b[39mmaxError)\u001b[39m.\u001b[39mtransform(\n\u001b[0;32m   1618\u001b[0m         maxError\u001b[39m=\u001b[39mmaxError\n\u001b[0;32m   1619\u001b[0m     )\n\u001b[0;32m   1620\u001b[0m \u001b[39mexcept\u001b[39;00m \u001b[39mException\u001b[39;00m:\n",
      "File \u001b[1;32mc:\\Users\\abreu\\Anaconda3\\envs\\geemap\\lib\\site-packages\\pandas\\core\\generic.py:5902\u001b[0m, in \u001b[0;36mNDFrame.__getattr__\u001b[1;34m(self, name)\u001b[0m\n\u001b[0;32m   5901\u001b[0m     \u001b[39mreturn\u001b[39;00m \u001b[39mself\u001b[39m[name]\n\u001b[1;32m-> 5902\u001b[0m \u001b[39mreturn\u001b[39;00m \u001b[39mobject\u001b[39;49m\u001b[39m.\u001b[39;49m\u001b[39m__getattribute__\u001b[39;49m(\u001b[39mself\u001b[39;49m, name)\n",
      "\u001b[1;31mAttributeError\u001b[0m: 'DataFrame' object has no attribute 'geometry'",
      "\nDuring handling of the above exception, another exception occurred:\n",
      "\u001b[1;31mException\u001b[0m                                 Traceback (most recent call last)",
      "\u001b[1;32mc:\\GitHub\\Geemap\\Projects\\BigQ-EE\\poc1.ipynb Cell 8\u001b[0m line \u001b[0;36m2\n\u001b[0;32m      <a href='vscode-notebook-cell:/c%3A/GitHub/Geemap/Projects/BigQ-EE/poc1.ipynb#W6sZmlsZQ%3D%3D?line=0'>1</a>\u001b[0m Map \u001b[39m=\u001b[39m geemap\u001b[39m.\u001b[39mMap()\n\u001b[1;32m----> <a href='vscode-notebook-cell:/c%3A/GitHub/Geemap/Projects/BigQ-EE/poc1.ipynb#W6sZmlsZQ%3D%3D?line=1'>2</a>\u001b[0m Map\u001b[39m.\u001b[39;49mcenterObject(df, \u001b[39m12\u001b[39;49m);\n\u001b[0;32m      <a href='vscode-notebook-cell:/c%3A/GitHub/Geemap/Projects/BigQ-EE/poc1.ipynb#W6sZmlsZQ%3D%3D?line=2'>3</a>\u001b[0m Map\u001b[39m.\u001b[39msetOptions(mapTypeId\u001b[39m=\u001b[39m\u001b[39m'\u001b[39m\u001b[39mHYBRID\u001b[39m\u001b[39m'\u001b[39m, styles\u001b[39m=\u001b[39m{}, types\u001b[39m=\u001b[39m[])\n\u001b[0;32m      <a href='vscode-notebook-cell:/c%3A/GitHub/Geemap/Projects/BigQ-EE/poc1.ipynb#W6sZmlsZQ%3D%3D?line=3'>4</a>\u001b[0m Map\u001b[39m.\u001b[39maddLayer(df, {\u001b[39m\"\u001b[39m\u001b[39mcolor\u001b[39m\u001b[39m\"\u001b[39m:\u001b[39m\"\u001b[39m\u001b[39mblue\u001b[39m\u001b[39m\"\u001b[39m});\n",
      "File \u001b[1;32mc:\\Users\\abreu\\Anaconda3\\envs\\geemap\\lib\\site-packages\\geemap\\geemap.py:1621\u001b[0m, in \u001b[0;36mMap.center_object\u001b[1;34m(self, ee_object, zoom)\u001b[0m\n\u001b[0;32m   1617\u001b[0m         geometry \u001b[39m=\u001b[39m ee_object\u001b[39m.\u001b[39mgeometry(maxError\u001b[39m=\u001b[39mmaxError)\u001b[39m.\u001b[39mtransform(\n\u001b[0;32m   1618\u001b[0m             maxError\u001b[39m=\u001b[39mmaxError\n\u001b[0;32m   1619\u001b[0m         )\n\u001b[0;32m   1620\u001b[0m     \u001b[39mexcept\u001b[39;00m \u001b[39mException\u001b[39;00m:\n\u001b[1;32m-> 1621\u001b[0m         \u001b[39mraise\u001b[39;00m \u001b[39mException\u001b[39;00m(\n\u001b[0;32m   1622\u001b[0m             \u001b[39m\"\u001b[39m\u001b[39mee_object must be an instance of one of ee.Geometry, ee.FeatureCollection, ee.Image, or ee.ImageCollection.\u001b[39m\u001b[39m\"\u001b[39m\n\u001b[0;32m   1623\u001b[0m         )\n\u001b[0;32m   1625\u001b[0m \u001b[39mif\u001b[39;00m zoom \u001b[39mis\u001b[39;00m \u001b[39mnot\u001b[39;00m \u001b[39mNone\u001b[39;00m:\n\u001b[0;32m   1626\u001b[0m     \u001b[39mif\u001b[39;00m \u001b[39mnot\u001b[39;00m \u001b[39misinstance\u001b[39m(zoom, \u001b[39mint\u001b[39m):\n",
      "\u001b[1;31mException\u001b[0m: ee_object must be an instance of one of ee.Geometry, ee.FeatureCollection, ee.Image, or ee.ImageCollection."
     ]
    }
   ],
   "source": [
    "Map = geemap.Map()\n",
    "Map.centerObject(df, 12);\n",
    "Map.setOptions(mapTypeId='HYBRID', styles={}, types=[])\n",
    "Map.addLayer(df, {\"color\":\"blue\"});\n",
    "Map"
   ]
  },
  {
   "cell_type": "code",
   "execution_count": null,
   "metadata": {},
   "outputs": [],
   "source": [
    "df.head()"
   ]
  },
  {
   "cell_type": "code",
   "execution_count": null,
   "metadata": {},
   "outputs": [],
   "source": []
  }
 ],
 "metadata": {
  "kernelspec": {
   "display_name": "Python 3",
   "language": "python",
   "name": "python3"
  },
  "language_info": {
   "codemirror_mode": {
    "name": "ipython",
    "version": 3
   },
   "file_extension": ".py",
   "mimetype": "text/x-python",
   "name": "python",
   "nbconvert_exporter": "python",
   "pygments_lexer": "ipython3",
   "version": "3.10.10"
  }
 },
 "nbformat": 4,
 "nbformat_minor": 2
}
